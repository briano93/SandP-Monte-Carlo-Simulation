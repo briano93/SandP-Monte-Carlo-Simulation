{
 "cells": [
  {
   "cell_type": "markdown",
   "metadata": {},
   "source": [
    "# Monte Carlo Simulation of an S&P - like Investment"
   ]
  },
  {
   "cell_type": "markdown",
   "metadata": {},
   "source": [
    "The S&P index has returned a historic annualised average of around 10% since the 1920s. A Monte Carlo simulation produces distributions of possible outcome values. Here I use a Monte Carlo simulation to simulate the returns I could expect if I invested €1,000 every year for 30 years with an additional €1,000 every year.  What is the probability that I will have over €100,000 after 30 years of investing?"
   ]
  },
  {
   "cell_type": "markdown",
   "metadata": {},
   "source": [
    "## Import Libraries"
   ]
  },
  {
   "cell_type": "code",
   "execution_count": 2,
   "metadata": {},
   "outputs": [],
   "source": [
    "import numpy as np\n",
    "from pandas import Series, DataFrame"
   ]
  },
  {
   "cell_type": "code",
   "execution_count": 3,
   "metadata": {},
   "outputs": [],
   "source": [
    "%matplotlib inline\n",
    "import matplotlib.pyplot as plt"
   ]
  },
  {
   "cell_type": "code",
   "execution_count": 4,
   "metadata": {},
   "outputs": [],
   "source": [
    "import locale"
   ]
  },
  {
   "cell_type": "code",
   "execution_count": 5,
   "metadata": {},
   "outputs": [
    {
     "data": {
      "text/plain": [
       "'English_Ireland.1252'"
      ]
     },
     "execution_count": 5,
     "metadata": {},
     "output_type": "execute_result"
    }
   ],
   "source": [
    "locale.setlocale(locale.LC_ALL, '')"
   ]
  },
  {
   "cell_type": "markdown",
   "metadata": {},
   "source": [
    "## A traditional savings calculator"
   ]
  },
  {
   "cell_type": "code",
   "execution_count": 6,
   "metadata": {
    "scrolled": false
   },
   "outputs": [
    {
     "name": "stdout",
     "output_type": "stream",
     "text": [
      "€2,070.00\n",
      "€3,214.90\n",
      "€4,439.94\n",
      "€5,750.74\n",
      "€7,153.29\n",
      "€8,654.02\n",
      "€10,259.80\n",
      "€11,977.99\n",
      "€13,816.45\n",
      "€15,783.60\n",
      "€17,888.45\n",
      "€20,140.64\n",
      "€22,550.49\n",
      "€25,129.02\n",
      "€27,888.05\n",
      "€30,840.22\n",
      "€33,999.03\n",
      "€37,378.96\n",
      "€40,995.49\n",
      "€44,865.18\n",
      "€49,005.74\n",
      "€53,436.14\n",
      "€58,176.67\n",
      "€63,249.04\n",
      "€68,676.47\n",
      "€74,483.82\n",
      "€80,697.69\n",
      "€87,346.53\n",
      "€94,460.79\n",
      "€102,073.04\n"
     ]
    }
   ],
   "source": [
    "pv = 1000\n",
    "time_horizon = 30\n",
    "i =.07\n",
    "additions = 1000\n",
    "\n",
    "for year in range(time_horizon):\n",
    "    ending = pv * (1+i) + additions\n",
    "    print(locale.currency(ending, grouping=True))\n",
    "    pv = ending"
   ]
  },
  {
   "cell_type": "markdown",
   "metadata": {},
   "source": [
    "We cannot rely on a 7% rate of return every year so some volatility needs to be introduced. I used a volatility of 18% which ranges from +9% to -9%."
   ]
  },
  {
   "cell_type": "code",
   "execution_count": 7,
   "metadata": {
    "scrolled": true
   },
   "outputs": [
    {
     "name": "stdout",
     "output_type": "stream",
     "text": [
      "\tReturn     \t\tEnding Value\n",
      "\t0.5879               \t€2,587.88\n",
      "\t-0.1197               \t€3,278.19\n",
      "\t0.2714               \t€5,167.97\n",
      "\t-0.1297               \t€5,497.68\n",
      "\t0.1553               \t€7,351.70\n",
      "\t0.1601               \t€9,528.39\n",
      "\t0.1475               \t€11,933.57\n",
      "\t0.1836               \t€15,124.38\n",
      "\t-0.034               \t€15,609.48\n",
      "\t0.0259               \t€17,013.39\n",
      "\t-0.0855               \t€16,559.43\n",
      "\t0.1384               \t€19,851.57\n",
      "\t-0.1127               \t€18,614.14\n",
      "\t0.0863               \t€21,219.90\n",
      "\t-0.1091               \t€19,904.36\n",
      "\t0.3197               \t€27,268.67\n",
      "\t0.0247               \t€28,941.87\n",
      "\t0.3014               \t€38,665.40\n",
      "\t-0.0745               \t€36,784.03\n",
      "\t-0.0794               \t€34,862.99\n",
      "\t0.0508               \t€37,632.82\n",
      "\t-0.0303               \t€37,491.95\n",
      "\t-0.3091               \t€26,904.77\n",
      "\t-0.0325               \t€27,031.05\n",
      "\t0.2517               \t€34,833.99\n",
      "\t-0.1555               \t€30,416.01\n",
      "\t0.0533               \t€33,036.08\n",
      "\t0.131               \t€38,362.66\n",
      "\t-0.1744               \t€32,671.50\n",
      "\t-0.0908               \t€30,704.18\n"
     ]
    }
   ],
   "source": [
    "pv = 1000\n",
    "expected_return = 0.09\n",
    "volatility = .18\n",
    "time_horizon = 30\n",
    "annual_addition = 1000\n",
    "\n",
    "print(\"\\tReturn\", \"\\t\\tEnding Value\".rjust(18))\n",
    "for year in range(time_horizon):\n",
    "    market_return = np.random.normal(expected_return, volatility)\n",
    "    fv = pv * (1 + market_return) + annual_addition\n",
    "    print(\"\\t{}\".ljust(10).format(round(market_return,4)), \"\\t{}\".rjust(10).format(locale.currency(fv, grouping=True)))\n",
    "    \n",
    "    pv = fv"
   ]
  },
  {
   "cell_type": "markdown",
   "metadata": {},
   "source": [
    "Looking at the return columns for reach year shows how volatile the markets can be."
   ]
  },
  {
   "cell_type": "markdown",
   "metadata": {},
   "source": [
    "What would happen if we ran this 5000 times and characterised a ditribution? We could then make a probablity statement about how much we can expect to see."
   ]
  },
  {
   "cell_type": "markdown",
   "metadata": {},
   "source": [
    "## Monte Carlo Simulation"
   ]
  },
  {
   "cell_type": "markdown",
   "metadata": {},
   "source": [
    "Here I do 5000 iterations of the above calculation:"
   ]
  },
  {
   "cell_type": "code",
   "execution_count": 8,
   "metadata": {},
   "outputs": [],
   "source": [
    "sim = DataFrame()\n",
    "iterations = 5000\n",
    "\n",
    "for x in range(iterations):\n",
    "    expected_return = 0.09\n",
    "    volatility = 0.18\n",
    "    time_horizon = 30\n",
    "    pv = 1000\n",
    "    annual_investment = 1000\n",
    "    stream = []\n",
    "    for i in range(time_horizon):\n",
    "        end = round(pv * (1 + np.random.normal(expected_return,volatility)) + annual_investment,2)\n",
    "        \n",
    "        stream.append(end)\n",
    "        \n",
    "        pv = end\n",
    "        \n",
    "        \n",
    "    sim[x] = stream"
   ]
  },
  {
   "cell_type": "markdown",
   "metadata": {},
   "source": [
    "We just made a massive table with 5000 coulmns, lets just look at the first five:"
   ]
  },
  {
   "cell_type": "code",
   "execution_count": 9,
   "metadata": {},
   "outputs": [
    {
     "data": {
      "text/html": [
       "<div>\n",
       "<style scoped>\n",
       "    .dataframe tbody tr th:only-of-type {\n",
       "        vertical-align: middle;\n",
       "    }\n",
       "\n",
       "    .dataframe tbody tr th {\n",
       "        vertical-align: top;\n",
       "    }\n",
       "\n",
       "    .dataframe thead th {\n",
       "        text-align: right;\n",
       "    }\n",
       "</style>\n",
       "<table border=\"1\" class=\"dataframe\">\n",
       "  <thead>\n",
       "    <tr style=\"text-align: right;\">\n",
       "      <th></th>\n",
       "      <th>0</th>\n",
       "      <th>1</th>\n",
       "      <th>2</th>\n",
       "      <th>3</th>\n",
       "      <th>4</th>\n",
       "    </tr>\n",
       "  </thead>\n",
       "  <tbody>\n",
       "    <tr>\n",
       "      <td>0</td>\n",
       "      <td>1712.60</td>\n",
       "      <td>2209.29</td>\n",
       "      <td>1843.20</td>\n",
       "      <td>2182.61</td>\n",
       "      <td>2048.18</td>\n",
       "    </tr>\n",
       "    <tr>\n",
       "      <td>1</td>\n",
       "      <td>2870.35</td>\n",
       "      <td>3477.92</td>\n",
       "      <td>3105.58</td>\n",
       "      <td>3629.83</td>\n",
       "      <td>3544.12</td>\n",
       "    </tr>\n",
       "    <tr>\n",
       "      <td>2</td>\n",
       "      <td>3365.91</td>\n",
       "      <td>4970.32</td>\n",
       "      <td>4449.07</td>\n",
       "      <td>4949.07</td>\n",
       "      <td>5461.71</td>\n",
       "    </tr>\n",
       "    <tr>\n",
       "      <td>3</td>\n",
       "      <td>4400.78</td>\n",
       "      <td>6132.88</td>\n",
       "      <td>6892.98</td>\n",
       "      <td>6228.95</td>\n",
       "      <td>5770.61</td>\n",
       "    </tr>\n",
       "    <tr>\n",
       "      <td>4</td>\n",
       "      <td>5349.94</td>\n",
       "      <td>6038.03</td>\n",
       "      <td>7088.32</td>\n",
       "      <td>6978.85</td>\n",
       "      <td>8019.18</td>\n",
       "    </tr>\n",
       "    <tr>\n",
       "      <td>5</td>\n",
       "      <td>6023.05</td>\n",
       "      <td>6522.07</td>\n",
       "      <td>8716.09</td>\n",
       "      <td>9530.44</td>\n",
       "      <td>6637.27</td>\n",
       "    </tr>\n",
       "    <tr>\n",
       "      <td>6</td>\n",
       "      <td>9629.60</td>\n",
       "      <td>8636.17</td>\n",
       "      <td>9368.12</td>\n",
       "      <td>11873.11</td>\n",
       "      <td>8386.66</td>\n",
       "    </tr>\n",
       "    <tr>\n",
       "      <td>7</td>\n",
       "      <td>14597.81</td>\n",
       "      <td>14125.19</td>\n",
       "      <td>12179.93</td>\n",
       "      <td>13971.03</td>\n",
       "      <td>10382.47</td>\n",
       "    </tr>\n",
       "    <tr>\n",
       "      <td>8</td>\n",
       "      <td>14182.73</td>\n",
       "      <td>16987.44</td>\n",
       "      <td>16066.97</td>\n",
       "      <td>12812.60</td>\n",
       "      <td>12132.29</td>\n",
       "    </tr>\n",
       "    <tr>\n",
       "      <td>9</td>\n",
       "      <td>19645.75</td>\n",
       "      <td>19549.07</td>\n",
       "      <td>18637.29</td>\n",
       "      <td>9722.23</td>\n",
       "      <td>15967.15</td>\n",
       "    </tr>\n",
       "    <tr>\n",
       "      <td>10</td>\n",
       "      <td>19273.19</td>\n",
       "      <td>28740.69</td>\n",
       "      <td>27461.09</td>\n",
       "      <td>7961.15</td>\n",
       "      <td>16192.41</td>\n",
       "    </tr>\n",
       "    <tr>\n",
       "      <td>11</td>\n",
       "      <td>27191.79</td>\n",
       "      <td>37808.20</td>\n",
       "      <td>33309.33</td>\n",
       "      <td>8990.02</td>\n",
       "      <td>14540.89</td>\n",
       "    </tr>\n",
       "    <tr>\n",
       "      <td>12</td>\n",
       "      <td>24828.61</td>\n",
       "      <td>37457.37</td>\n",
       "      <td>35156.43</td>\n",
       "      <td>10756.97</td>\n",
       "      <td>19070.95</td>\n",
       "    </tr>\n",
       "    <tr>\n",
       "      <td>13</td>\n",
       "      <td>30566.39</td>\n",
       "      <td>41433.30</td>\n",
       "      <td>44964.14</td>\n",
       "      <td>11611.16</td>\n",
       "      <td>22447.30</td>\n",
       "    </tr>\n",
       "    <tr>\n",
       "      <td>14</td>\n",
       "      <td>29076.03</td>\n",
       "      <td>53011.55</td>\n",
       "      <td>52487.19</td>\n",
       "      <td>13540.73</td>\n",
       "      <td>20971.23</td>\n",
       "    </tr>\n",
       "    <tr>\n",
       "      <td>15</td>\n",
       "      <td>32476.17</td>\n",
       "      <td>71089.23</td>\n",
       "      <td>60883.23</td>\n",
       "      <td>16308.97</td>\n",
       "      <td>28546.22</td>\n",
       "    </tr>\n",
       "    <tr>\n",
       "      <td>16</td>\n",
       "      <td>32051.50</td>\n",
       "      <td>82699.15</td>\n",
       "      <td>86669.37</td>\n",
       "      <td>15622.85</td>\n",
       "      <td>28547.81</td>\n",
       "    </tr>\n",
       "    <tr>\n",
       "      <td>17</td>\n",
       "      <td>32793.73</td>\n",
       "      <td>82130.41</td>\n",
       "      <td>92391.60</td>\n",
       "      <td>17452.64</td>\n",
       "      <td>34205.58</td>\n",
       "    </tr>\n",
       "    <tr>\n",
       "      <td>18</td>\n",
       "      <td>28660.75</td>\n",
       "      <td>65878.15</td>\n",
       "      <td>72573.55</td>\n",
       "      <td>21578.28</td>\n",
       "      <td>35655.50</td>\n",
       "    </tr>\n",
       "    <tr>\n",
       "      <td>19</td>\n",
       "      <td>32947.06</td>\n",
       "      <td>81070.76</td>\n",
       "      <td>101004.50</td>\n",
       "      <td>31305.57</td>\n",
       "      <td>40011.51</td>\n",
       "    </tr>\n",
       "    <tr>\n",
       "      <td>20</td>\n",
       "      <td>24577.47</td>\n",
       "      <td>97485.37</td>\n",
       "      <td>107292.15</td>\n",
       "      <td>41198.90</td>\n",
       "      <td>43703.84</td>\n",
       "    </tr>\n",
       "    <tr>\n",
       "      <td>21</td>\n",
       "      <td>20591.74</td>\n",
       "      <td>123828.73</td>\n",
       "      <td>89331.21</td>\n",
       "      <td>49737.88</td>\n",
       "      <td>32080.72</td>\n",
       "    </tr>\n",
       "    <tr>\n",
       "      <td>22</td>\n",
       "      <td>30781.27</td>\n",
       "      <td>110550.17</td>\n",
       "      <td>105870.07</td>\n",
       "      <td>55135.11</td>\n",
       "      <td>32813.00</td>\n",
       "    </tr>\n",
       "    <tr>\n",
       "      <td>23</td>\n",
       "      <td>41066.96</td>\n",
       "      <td>174200.96</td>\n",
       "      <td>127588.28</td>\n",
       "      <td>61979.61</td>\n",
       "      <td>38364.45</td>\n",
       "    </tr>\n",
       "    <tr>\n",
       "      <td>24</td>\n",
       "      <td>46091.86</td>\n",
       "      <td>175918.98</td>\n",
       "      <td>131045.99</td>\n",
       "      <td>88773.60</td>\n",
       "      <td>41296.37</td>\n",
       "    </tr>\n",
       "    <tr>\n",
       "      <td>25</td>\n",
       "      <td>61907.19</td>\n",
       "      <td>246849.34</td>\n",
       "      <td>134515.96</td>\n",
       "      <td>103078.95</td>\n",
       "      <td>36697.41</td>\n",
       "    </tr>\n",
       "    <tr>\n",
       "      <td>26</td>\n",
       "      <td>76482.17</td>\n",
       "      <td>343472.86</td>\n",
       "      <td>139845.15</td>\n",
       "      <td>106904.07</td>\n",
       "      <td>42372.58</td>\n",
       "    </tr>\n",
       "    <tr>\n",
       "      <td>27</td>\n",
       "      <td>90346.64</td>\n",
       "      <td>416203.18</td>\n",
       "      <td>172190.30</td>\n",
       "      <td>169109.81</td>\n",
       "      <td>58348.84</td>\n",
       "    </tr>\n",
       "    <tr>\n",
       "      <td>28</td>\n",
       "      <td>117129.43</td>\n",
       "      <td>518653.09</td>\n",
       "      <td>208083.56</td>\n",
       "      <td>230457.14</td>\n",
       "      <td>73751.59</td>\n",
       "    </tr>\n",
       "    <tr>\n",
       "      <td>29</td>\n",
       "      <td>129141.07</td>\n",
       "      <td>458374.31</td>\n",
       "      <td>198473.21</td>\n",
       "      <td>265600.37</td>\n",
       "      <td>81645.39</td>\n",
       "    </tr>\n",
       "  </tbody>\n",
       "</table>\n",
       "</div>"
      ],
      "text/plain": [
       "            0          1          2          3         4\n",
       "0     1712.60    2209.29    1843.20    2182.61   2048.18\n",
       "1     2870.35    3477.92    3105.58    3629.83   3544.12\n",
       "2     3365.91    4970.32    4449.07    4949.07   5461.71\n",
       "3     4400.78    6132.88    6892.98    6228.95   5770.61\n",
       "4     5349.94    6038.03    7088.32    6978.85   8019.18\n",
       "5     6023.05    6522.07    8716.09    9530.44   6637.27\n",
       "6     9629.60    8636.17    9368.12   11873.11   8386.66\n",
       "7    14597.81   14125.19   12179.93   13971.03  10382.47\n",
       "8    14182.73   16987.44   16066.97   12812.60  12132.29\n",
       "9    19645.75   19549.07   18637.29    9722.23  15967.15\n",
       "10   19273.19   28740.69   27461.09    7961.15  16192.41\n",
       "11   27191.79   37808.20   33309.33    8990.02  14540.89\n",
       "12   24828.61   37457.37   35156.43   10756.97  19070.95\n",
       "13   30566.39   41433.30   44964.14   11611.16  22447.30\n",
       "14   29076.03   53011.55   52487.19   13540.73  20971.23\n",
       "15   32476.17   71089.23   60883.23   16308.97  28546.22\n",
       "16   32051.50   82699.15   86669.37   15622.85  28547.81\n",
       "17   32793.73   82130.41   92391.60   17452.64  34205.58\n",
       "18   28660.75   65878.15   72573.55   21578.28  35655.50\n",
       "19   32947.06   81070.76  101004.50   31305.57  40011.51\n",
       "20   24577.47   97485.37  107292.15   41198.90  43703.84\n",
       "21   20591.74  123828.73   89331.21   49737.88  32080.72\n",
       "22   30781.27  110550.17  105870.07   55135.11  32813.00\n",
       "23   41066.96  174200.96  127588.28   61979.61  38364.45\n",
       "24   46091.86  175918.98  131045.99   88773.60  41296.37\n",
       "25   61907.19  246849.34  134515.96  103078.95  36697.41\n",
       "26   76482.17  343472.86  139845.15  106904.07  42372.58\n",
       "27   90346.64  416203.18  172190.30  169109.81  58348.84\n",
       "28  117129.43  518653.09  208083.56  230457.14  73751.59\n",
       "29  129141.07  458374.31  198473.21  265600.37  81645.39"
      ]
     },
     "execution_count": 9,
     "metadata": {},
     "output_type": "execute_result"
    }
   ],
   "source": [
    "first_five = list(range(5))\n",
    "sim[first_five]"
   ]
  },
  {
   "cell_type": "markdown",
   "metadata": {},
   "source": [
    "Plotting this:"
   ]
  },
  {
   "cell_type": "code",
   "execution_count": 10,
   "metadata": {
    "scrolled": true
   },
   "outputs": [
    {
     "data": {
      "text/plain": [
       "Text(0, 0.5, 'Return (€)')"
      ]
     },
     "execution_count": 10,
     "metadata": {},
     "output_type": "execute_result"
    },
    {
     "data": {
      "image/png": "[encoded data removed]",
      "text/plain": [
       "<Figure size 1008x504 with 1 Axes>"
      ]
     },
     "metadata": {
      "needs_background": "light"
     },
     "output_type": "display_data"
    }
   ],
   "source": [
    "plt.figure(figsize=(14,7))\n",
    "plt.plot(sim[first_five])\n",
    "plt.xlabel('Year', fontsize=22)\n",
    "plt.ylabel('Return (€)', fontsize = 22)"
   ]
  },
  {
   "cell_type": "markdown",
   "metadata": {},
   "source": [
    "The highest yellow line seems to be around €500,000 but most of the values seem to range from €50,000 to €275,000."
   ]
  },
  {
   "cell_type": "code",
   "execution_count": 11,
   "metadata": {
    "scrolled": true
   },
   "outputs": [
    {
     "data": {
      "text/plain": [
       "(array([ 59., 208., 371., 445., 459., 405., 406., 337., 324., 278., 228.,\n",
       "        188., 188., 149., 131., 105.,  93.,  80.,  73.,  49.,  49.,  44.,\n",
       "         22.,  45.,  26.,  30.,  19.,  15.,  21.,  15.,  20.,  15.,   4.,\n",
       "          9.,   7.,   5.,   1.,   5.,   3.,   5.,   5.,   4.,   6.,   2.,\n",
       "          1.,   3.,   5.,   4.,   2.,   3.,   2.,   2.,   1.,   2.,   2.,\n",
       "          0.,   2.,   0.,   1.,   0.,   1.,   0.,   0.,   4.,   2.,   1.,\n",
       "          0.,   0.,   0.,   0.,   0.,   0.,   0.,   1.,   1.,   0.,   1.,\n",
       "          0.,   1.,   1.,   0.,   0.,   1.,   2.,   0.,   0.,   0.,   0.,\n",
       "          0.,   0.,   0.,   0.,   0.,   0.,   0.,   0.,   0.,   0.,   0.,\n",
       "          1.]), array([  11045.01  ,   25430.4322,   39815.8544,   54201.2766,\n",
       "          68586.6988,   82972.121 ,   97357.5432,  111742.9654,\n",
       "         126128.3876,  140513.8098,  154899.232 ,  169284.6542,\n",
       "         183670.0764,  198055.4986,  212440.9208,  226826.343 ,\n",
       "         241211.7652,  255597.1874,  269982.6096,  284368.0318,\n",
       "         298753.454 ,  313138.8762,  327524.2984,  341909.7206,\n",
       "         356295.1428,  370680.565 ,  385065.9872,  399451.4094,\n",
       "         413836.8316,  428222.2538,  442607.676 ,  456993.0982,\n",
       "         471378.5204,  485763.9426,  500149.3648,  514534.787 ,\n",
       "         528920.2092,  543305.6314,  557691.0536,  572076.4758,\n",
       "         586461.898 ,  600847.3202,  615232.7424,  629618.1646,\n",
       "         644003.5868,  658389.009 ,  672774.4312,  687159.8534,\n",
       "         701545.2756,  715930.6978,  730316.12  ,  744701.5422,\n",
       "         759086.9644,  773472.3866,  787857.8088,  802243.231 ,\n",
       "         816628.6532,  831014.0754,  845399.4976,  859784.9198,\n",
       "         874170.342 ,  888555.7642,  902941.1864,  917326.6086,\n",
       "         931712.0308,  946097.453 ,  960482.8752,  974868.2974,\n",
       "         989253.7196, 1003639.1418, 1018024.564 , 1032409.9862,\n",
       "        1046795.4084, 1061180.8306, 1075566.2528, 1089951.675 ,\n",
       "        1104337.0972, 1118722.5194, 1133107.9416, 1147493.3638,\n",
       "        1161878.786 , 1176264.2082, 1190649.6304, 1205035.0526,\n",
       "        1219420.4748, 1233805.897 , 1248191.3192, 1262576.7414,\n",
       "        1276962.1636, 1291347.5858, 1305733.008 , 1320118.4302,\n",
       "        1334503.8524, 1348889.2746, 1363274.6968, 1377660.119 ,\n",
       "        1392045.5412, 1406430.9634, 1420816.3856, 1435201.8078,\n",
       "        1449587.23  ]), <a list of 100 Patch objects>)"
      ]
     },
     "execution_count": 11,
     "metadata": {},
     "output_type": "execute_result"
    },
    {
     "data": {
      "image/png": "[encoded data removed]",
      "text/plain": [
       "<Figure size 1008x504 with 1 Axes>"
      ]
     },
     "metadata": {
      "needs_background": "light"
     },
     "output_type": "display_data"
    }
   ],
   "source": [
    "ending_values = sim.loc[29]\n",
    "plt.figure(figsize=(14,7))\n",
    "plt.xlabel('Return (€)', fontsize=22)\n",
    "plt.hist(ending_values, bins=100)"
   ]
  },
  {
   "cell_type": "markdown",
   "metadata": {},
   "source": [
    "We can see that most of the values are in the range €50,000 to €150,000. This distribution is skewed right so most of the values are to the right of the peak, which seems to be around €125,000. Some of the highest values are up to €1,400,000. After the €400,000 mark there is pretty much no chance of seeing values any larger that that."
   ]
  },
  {
   "cell_type": "markdown",
   "metadata": {},
   "source": [
    "## Summary Statistics of our Simulation"
   ]
  },
  {
   "cell_type": "code",
   "execution_count": 12,
   "metadata": {},
   "outputs": [
    {
     "name": "stdout",
     "output_type": "stream",
     "text": [
      "Count: 5000\n",
      "Mean:  €149,546.74\n",
      "SD:  €120,338.23\n",
      "Max:  €1,449,587.23\n",
      "Min:  €11,045.01\n"
     ]
    }
   ],
   "source": [
    "print(\"Count:\", len(sim.loc[29]))\n",
    "print(\"Mean: \", locale.currency(np.mean(sim.loc[29]),grouping=True))\n",
    "print(\"SD: \",locale.currency(np.std(sim.loc[29]),grouping=True))\n",
    "print(\"Max: \",locale.currency(np.max(sim.loc[29]), grouping=True))\n",
    "print(\"Min: \", locale.currency(np.min(sim.loc[29]), grouping=True))"
   ]
  },
  {
   "cell_type": "markdown",
   "metadata": {},
   "source": [
    "With 5000 simulations we can see we have a mean of €149,546. \n",
    "\n",
    "We have a max of €1,449,587 and a min of €11,045. \n",
    "\n",
    "These summary statistics are probably not the best at represeting the simulation. The standard deviation is almost as big as the mean which tells us there is a wide range of ending values."
   ]
  },
  {
   "cell_type": "code",
   "execution_count": 13,
   "metadata": {},
   "outputs": [
    {
     "name": "stdout",
     "output_type": "stream",
     "text": [
      "25th percentile:  €73,816.77\n",
      "50th percentile:  €117,584.85\n",
      "75th percentile:  €186,318.28\n"
     ]
    }
   ],
   "source": [
    "p_tiles = np.percentile(ending_values,[25,50,75])\n",
    "for p in range(len(p_tiles)):\n",
    "    l = [25,50,75]\n",
    "    print( \"{}th percentile: \".format(l[p]).rjust(15),\"{}\".format(locale.currency(p_tiles[p], grouping=True)))"
   ]
  },
  {
   "cell_type": "markdown",
   "metadata": {},
   "source": [
    "Comparing the median to the mean, we can see that this data is not distributed normally. The median would present a better idea of what one can expect to make as the values are ranging so much."
   ]
  },
  {
   "cell_type": "markdown",
   "metadata": {},
   "source": [
    "## Probability "
   ]
  },
  {
   "cell_type": "markdown",
   "metadata": {},
   "source": [
    "What is the probability that we will see less than €100,000?"
   ]
  },
  {
   "cell_type": "code",
   "execution_count": 14,
   "metadata": {
    "scrolled": true
   },
   "outputs": [
    {
     "data": {
      "text/plain": [
       "0.4064"
      ]
     },
     "execution_count": 14,
     "metadata": {},
     "output_type": "execute_result"
    }
   ],
   "source": [
    "len(ending_values[ending_values<100000]) / len(ending_values)"
   ]
  },
  {
   "cell_type": "markdown",
   "metadata": {},
   "source": [
    "About 40%. So there is about a 60% chance we will see more than €100,000."
   ]
  }
 ],
 "metadata": {
  "kernelspec": {
   "display_name": "Python 3",
   "language": "python",
   "name": "python3"
  },
  "language_info": {
   "codemirror_mode": {
    "name": "ipython",
    "version": 3
   },
   "file_extension": ".py",
   "mimetype": "text/x-python",
   "name": "python",
   "nbconvert_exporter": "python",
   "pygments_lexer": "ipython3",
   "version": "3.7.4"
  }
 },
 "nbformat": 4,
 "nbformat_minor": 2
}
